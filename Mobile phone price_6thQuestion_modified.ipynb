{
 "cells": [
  {
   "cell_type": "markdown",
   "id": "8ea6ead4",
   "metadata": {},
   "source": [
    "# Mobile phone price_6thQuestion"
   ]
  },
  {
   "cell_type": "code",
   "execution_count": 8,
   "id": "bc4601a5",
   "metadata": {},
   "outputs": [],
   "source": [
    "import numpy as np\n",
    "import pandas as pd"
   ]
  },
  {
   "cell_type": "code",
   "execution_count": 9,
   "id": "e4de2193",
   "metadata": {},
   "outputs": [
    {
     "data": {
      "text/html": [
       "<div>\n",
       "<style scoped>\n",
       "    .dataframe tbody tr th:only-of-type {\n",
       "        vertical-align: middle;\n",
       "    }\n",
       "\n",
       "    .dataframe tbody tr th {\n",
       "        vertical-align: top;\n",
       "    }\n",
       "\n",
       "    .dataframe thead th {\n",
       "        text-align: right;\n",
       "    }\n",
       "</style>\n",
       "<table border=\"1\" class=\"dataframe\">\n",
       "  <thead>\n",
       "    <tr style=\"text-align: right;\">\n",
       "      <th></th>\n",
       "      <th>Brand</th>\n",
       "      <th>Model</th>\n",
       "      <th>Storage</th>\n",
       "      <th>RAM</th>\n",
       "      <th>Screen Size (inches)</th>\n",
       "      <th>Camera (MP)</th>\n",
       "      <th>Battery Capacity (mAh)</th>\n",
       "      <th>Price ($)</th>\n",
       "    </tr>\n",
       "  </thead>\n",
       "  <tbody>\n",
       "    <tr>\n",
       "      <th>0</th>\n",
       "      <td>Apple</td>\n",
       "      <td>iPhone 13 Pro</td>\n",
       "      <td>128 GB</td>\n",
       "      <td>6 GB</td>\n",
       "      <td>6.1</td>\n",
       "      <td>12 + 12 + 12</td>\n",
       "      <td>3095</td>\n",
       "      <td>999</td>\n",
       "    </tr>\n",
       "    <tr>\n",
       "      <th>1</th>\n",
       "      <td>Samsung</td>\n",
       "      <td>Galaxy S21 Ultra</td>\n",
       "      <td>256 GB</td>\n",
       "      <td>12 GB</td>\n",
       "      <td>6.8</td>\n",
       "      <td>108 + 10 + 10 + 12</td>\n",
       "      <td>5000</td>\n",
       "      <td>1199</td>\n",
       "    </tr>\n",
       "    <tr>\n",
       "      <th>2</th>\n",
       "      <td>OnePlus</td>\n",
       "      <td>9 Pro</td>\n",
       "      <td>128 GB</td>\n",
       "      <td>8 GB</td>\n",
       "      <td>6.7</td>\n",
       "      <td>48 + 50 + 8 + 2</td>\n",
       "      <td>4500</td>\n",
       "      <td>899</td>\n",
       "    </tr>\n",
       "    <tr>\n",
       "      <th>3</th>\n",
       "      <td>Xiaomi</td>\n",
       "      <td>Redmi Note 10 Pro</td>\n",
       "      <td>128 GB</td>\n",
       "      <td>6 GB</td>\n",
       "      <td>6.67</td>\n",
       "      <td>64 + 8 + 5 + 2</td>\n",
       "      <td>5020</td>\n",
       "      <td>279</td>\n",
       "    </tr>\n",
       "    <tr>\n",
       "      <th>4</th>\n",
       "      <td>Google</td>\n",
       "      <td>Pixel 6</td>\n",
       "      <td>128 GB</td>\n",
       "      <td>8 GB</td>\n",
       "      <td>6.4</td>\n",
       "      <td>50 + 12.2</td>\n",
       "      <td>4614</td>\n",
       "      <td>799</td>\n",
       "    </tr>\n",
       "  </tbody>\n",
       "</table>\n",
       "</div>"
      ],
      "text/plain": [
       "     Brand              Model Storage    RAM  Screen Size (inches)  \\\n",
       "0    Apple      iPhone 13 Pro   128 GB   6 GB                  6.1   \n",
       "1  Samsung   Galaxy S21 Ultra   256 GB  12 GB                  6.8   \n",
       "2  OnePlus              9 Pro   128 GB   8 GB                  6.7   \n",
       "3   Xiaomi  Redmi Note 10 Pro   128 GB   6 GB                 6.67   \n",
       "4   Google            Pixel 6   128 GB   8 GB                  6.4   \n",
       "\n",
       "          Camera (MP)  Battery Capacity (mAh) Price ($)  \n",
       "0        12 + 12 + 12                    3095       999  \n",
       "1  108 + 10 + 10 + 12                    5000      1199  \n",
       "2     48 + 50 + 8 + 2                    4500       899  \n",
       "3      64 + 8 + 5 + 2                    5020       279  \n",
       "4           50 + 12.2                    4614       799  "
      ]
     },
     "execution_count": 9,
     "metadata": {},
     "output_type": "execute_result"
    }
   ],
   "source": [
    "data= pd.read_csv('Z:\\y21cs174\\Data Analysis Lab\\Mobile phone price_6thQuestion.csv')\n",
    "data.head()"
   ]
  },
  {
   "cell_type": "markdown",
   "id": "6b6f14bf",
   "metadata": {},
   "source": [
    "# a)\tIdentify the models & the price released by each brand."
   ]
  },
  {
   "cell_type": "code",
   "execution_count": 10,
   "id": "38cb62d9",
   "metadata": {},
   "outputs": [
    {
     "name": "stdout",
     "output_type": "stream",
     "text": [
      "                 Model Price ($)\n",
      "0        iPhone 13 Pro       999\n",
      "1     Galaxy S21 Ultra      1199\n",
      "2                9 Pro       899\n",
      "3    Redmi Note 10 Pro       279\n",
      "4              Pixel 6       799\n",
      "..                 ...       ...\n",
      "402   Galaxy Note20 5G      1049\n",
      "403      Mi 10 Lite 5G       349\n",
      "404  iPhone 12 Pro Max      1099\n",
      "405              Reno3       429\n",
      "406    Galaxy S10 Lite       649\n",
      "\n",
      "[407 rows x 2 columns]\n"
     ]
    }
   ],
   "source": [
    "print(data[['Model','Price ($)']])"
   ]
  },
  {
   "cell_type": "markdown",
   "id": "d661e123",
   "metadata": {},
   "source": [
    "# b)\tIdentify the correlation between Battery Capacity and price."
   ]
  },
  {
   "cell_type": "code",
   "execution_count": 11,
   "id": "ad839051",
   "metadata": {},
   "outputs": [
    {
     "data": {
      "text/plain": [
       "Brand                     object\n",
       "Model                     object\n",
       "Storage                   object\n",
       "RAM                       object\n",
       "Screen Size (inches)      object\n",
       "Camera (MP)               object\n",
       "Battery Capacity (mAh)     int64\n",
       "Price ($)                 object\n",
       "dtype: object"
      ]
     },
     "execution_count": 11,
     "metadata": {},
     "output_type": "execute_result"
    }
   ],
   "source": [
    "data.dtypes"
   ]
  },
  {
   "cell_type": "code",
   "execution_count": 12,
   "id": "69e012b0",
   "metadata": {},
   "outputs": [
    {
     "name": "stdout",
     "output_type": "stream",
     "text": [
      "Brand                     object\n",
      "Model                     object\n",
      "Storage                   object\n",
      "RAM                       object\n",
      "Screen Size (inches)      object\n",
      "Camera (MP)               object\n",
      "Battery Capacity (mAh)     int64\n",
      "Price ($)                 object\n",
      "price                      int64\n",
      "dtype: object\n"
     ]
    }
   ],
   "source": [
    "import re    # regular expressions module\n",
    "\n",
    "pattern = re.compile(r\"[^\\d]\")  # characters that are not [0-9] are replaced\n",
    "\n",
    "data['price'] = data['Price ($)'].str.replace(pattern, '')\n",
    "\n",
    "data['price'] = pd.to_numeric(data['price'])      # to explicitly convert the datatype\n",
    "\n",
    "print(data.dtypes)"
   ]
  },
  {
   "cell_type": "code",
   "execution_count": 13,
   "id": "a3acfbbe",
   "metadata": {},
   "outputs": [
    {
     "data": {
      "text/plain": [
       "-0.39658137643652003"
      ]
     },
     "execution_count": 13,
     "metadata": {},
     "output_type": "execute_result"
    }
   ],
   "source": [
    "correlation = data['Battery Capacity (mAh)'].corr(data['price'])  \n",
    "correlation"
   ]
  },
  {
   "cell_type": "markdown",
   "id": "e9d20bfb",
   "metadata": {},
   "source": [
    "# c)\tFind how many models are there per each Battery capacity with same price."
   ]
  },
  {
   "cell_type": "code",
   "execution_count": 14,
   "id": "ac56e922",
   "metadata": {},
   "outputs": [
    {
     "data": {
      "text/plain": [
       "Battery Capacity (mAh)  price\n",
       "1821                    399      4\n",
       "                        449      1\n",
       "2227                    699      2\n",
       "                        899      1\n",
       "2691                    699      1\n",
       "                                ..\n",
       "6000                    349      1\n",
       "                        379      1\n",
       "                        999      1\n",
       "7000                    429      1\n",
       "                        449      1\n",
       "Name: Model, Length: 179, dtype: int64"
      ]
     },
     "execution_count": 14,
     "metadata": {},
     "output_type": "execute_result"
    }
   ],
   "source": [
    "data.groupby(['Battery Capacity (mAh)','price'])['Model'].count()"
   ]
  },
  {
   "cell_type": "markdown",
   "id": "ad55c1f1",
   "metadata": {},
   "source": [
    "# d)\tCount the number of models in each brand with highest storage. Draw the graph."
   ]
  },
  {
   "cell_type": "code",
   "execution_count": 24,
   "id": "f03ada8c",
   "metadata": {},
   "outputs": [
    {
     "data": {
      "text/plain": [
       "Brand\n",
       "Apple         30\n",
       "Asus           4\n",
       "Blackberry     3\n",
       "CAT            1\n",
       "Google         7\n",
       "Huawei        12\n",
       "LG             3\n",
       "Motorola      23\n",
       "Nokia         28\n",
       "OnePlus       15\n",
       "Oppo          56\n",
       "Realme        43\n",
       "Samsung       79\n",
       "Sony           1\n",
       "Vivo          35\n",
       "Xiaomi        67\n",
       "Name: Model, dtype: int64"
      ]
     },
     "execution_count": 24,
     "metadata": {},
     "output_type": "execute_result"
    }
   ],
   "source": [
    "data.groupby(['Brand'])['Model'].count()"
   ]
  },
  {
   "cell_type": "code",
   "execution_count": 30,
   "id": "b15129cb",
   "metadata": {},
   "outputs": [
    {
     "ename": "AttributeError",
     "evalue": "Can only use .str accessor with string values!",
     "output_type": "error",
     "traceback": [
      "\u001b[1;31m---------------------------------------------------------------------------\u001b[0m",
      "\u001b[1;31mAttributeError\u001b[0m                            Traceback (most recent call last)",
      "Cell \u001b[1;32mIn[30], line 2\u001b[0m\n\u001b[0;32m      1\u001b[0m \u001b[38;5;28;01mimport\u001b[39;00m \u001b[38;5;21;01mmatplotlib\u001b[39;00m\u001b[38;5;21;01m.\u001b[39;00m\u001b[38;5;21;01mpyplot\u001b[39;00m \u001b[38;5;28;01mas\u001b[39;00m \u001b[38;5;21;01mplt\u001b[39;00m\n\u001b[1;32m----> 2\u001b[0m data[\u001b[38;5;124m'\u001b[39m\u001b[38;5;124mStorage \u001b[39m\u001b[38;5;124m'\u001b[39m]\u001b[38;5;241m=\u001b[39mdata[\u001b[38;5;124m'\u001b[39m\u001b[38;5;124mStorage \u001b[39m\u001b[38;5;124m'\u001b[39m]\u001b[38;5;241m.\u001b[39mstr\u001b[38;5;241m.\u001b[39mreplace(\u001b[38;5;124m\"\u001b[39m\u001b[38;5;124mGB\u001b[39m\u001b[38;5;124m\"\u001b[39m,\u001b[38;5;124m\"\u001b[39m\u001b[38;5;124m\"\u001b[39m)\u001b[38;5;241m.\u001b[39mastype(\u001b[38;5;28mint\u001b[39m)\n\u001b[0;32m      3\u001b[0m g\u001b[38;5;241m=\u001b[39mdata\u001b[38;5;241m.\u001b[39mgroupby(\u001b[38;5;124m\"\u001b[39m\u001b[38;5;124mBrand\u001b[39m\u001b[38;5;124m\"\u001b[39m)[\u001b[38;5;124m'\u001b[39m\u001b[38;5;124mStorage \u001b[39m\u001b[38;5;124m'\u001b[39m]\u001b[38;5;241m.\u001b[39mmax()\n\u001b[0;32m      4\u001b[0m dat\u001b[38;5;241m=\u001b[39m{}\n",
      "File \u001b[1;32mC:\\ProgramData\\anaconda3\\Lib\\site-packages\\pandas\\core\\generic.py:5902\u001b[0m, in \u001b[0;36mNDFrame.__getattr__\u001b[1;34m(self, name)\u001b[0m\n\u001b[0;32m   5895\u001b[0m \u001b[38;5;28;01mif\u001b[39;00m (\n\u001b[0;32m   5896\u001b[0m     name \u001b[38;5;129;01mnot\u001b[39;00m \u001b[38;5;129;01min\u001b[39;00m \u001b[38;5;28mself\u001b[39m\u001b[38;5;241m.\u001b[39m_internal_names_set\n\u001b[0;32m   5897\u001b[0m     \u001b[38;5;129;01mand\u001b[39;00m name \u001b[38;5;129;01mnot\u001b[39;00m \u001b[38;5;129;01min\u001b[39;00m \u001b[38;5;28mself\u001b[39m\u001b[38;5;241m.\u001b[39m_metadata\n\u001b[0;32m   5898\u001b[0m     \u001b[38;5;129;01mand\u001b[39;00m name \u001b[38;5;129;01mnot\u001b[39;00m \u001b[38;5;129;01min\u001b[39;00m \u001b[38;5;28mself\u001b[39m\u001b[38;5;241m.\u001b[39m_accessors\n\u001b[0;32m   5899\u001b[0m     \u001b[38;5;129;01mand\u001b[39;00m \u001b[38;5;28mself\u001b[39m\u001b[38;5;241m.\u001b[39m_info_axis\u001b[38;5;241m.\u001b[39m_can_hold_identifiers_and_holds_name(name)\n\u001b[0;32m   5900\u001b[0m ):\n\u001b[0;32m   5901\u001b[0m     \u001b[38;5;28;01mreturn\u001b[39;00m \u001b[38;5;28mself\u001b[39m[name]\n\u001b[1;32m-> 5902\u001b[0m \u001b[38;5;28;01mreturn\u001b[39;00m \u001b[38;5;28mobject\u001b[39m\u001b[38;5;241m.\u001b[39m\u001b[38;5;21m__getattribute__\u001b[39m(\u001b[38;5;28mself\u001b[39m, name)\n",
      "File \u001b[1;32mC:\\ProgramData\\anaconda3\\Lib\\site-packages\\pandas\\core\\accessor.py:182\u001b[0m, in \u001b[0;36mCachedAccessor.__get__\u001b[1;34m(self, obj, cls)\u001b[0m\n\u001b[0;32m    179\u001b[0m \u001b[38;5;28;01mif\u001b[39;00m obj \u001b[38;5;129;01mis\u001b[39;00m \u001b[38;5;28;01mNone\u001b[39;00m:\n\u001b[0;32m    180\u001b[0m     \u001b[38;5;66;03m# we're accessing the attribute of the class, i.e., Dataset.geo\u001b[39;00m\n\u001b[0;32m    181\u001b[0m     \u001b[38;5;28;01mreturn\u001b[39;00m \u001b[38;5;28mself\u001b[39m\u001b[38;5;241m.\u001b[39m_accessor\n\u001b[1;32m--> 182\u001b[0m accessor_obj \u001b[38;5;241m=\u001b[39m \u001b[38;5;28mself\u001b[39m\u001b[38;5;241m.\u001b[39m_accessor(obj)\n\u001b[0;32m    183\u001b[0m \u001b[38;5;66;03m# Replace the property with the accessor object. Inspired by:\u001b[39;00m\n\u001b[0;32m    184\u001b[0m \u001b[38;5;66;03m# https://www.pydanny.com/cached-property.html\u001b[39;00m\n\u001b[0;32m    185\u001b[0m \u001b[38;5;66;03m# We need to use object.__setattr__ because we overwrite __setattr__ on\u001b[39;00m\n\u001b[0;32m    186\u001b[0m \u001b[38;5;66;03m# NDFrame\u001b[39;00m\n\u001b[0;32m    187\u001b[0m \u001b[38;5;28mobject\u001b[39m\u001b[38;5;241m.\u001b[39m\u001b[38;5;21m__setattr__\u001b[39m(obj, \u001b[38;5;28mself\u001b[39m\u001b[38;5;241m.\u001b[39m_name, accessor_obj)\n",
      "File \u001b[1;32mC:\\ProgramData\\anaconda3\\Lib\\site-packages\\pandas\\core\\strings\\accessor.py:181\u001b[0m, in \u001b[0;36mStringMethods.__init__\u001b[1;34m(self, data)\u001b[0m\n\u001b[0;32m    178\u001b[0m \u001b[38;5;28;01mdef\u001b[39;00m \u001b[38;5;21m__init__\u001b[39m(\u001b[38;5;28mself\u001b[39m, data) \u001b[38;5;241m-\u001b[39m\u001b[38;5;241m>\u001b[39m \u001b[38;5;28;01mNone\u001b[39;00m:\n\u001b[0;32m    179\u001b[0m     \u001b[38;5;28;01mfrom\u001b[39;00m \u001b[38;5;21;01mpandas\u001b[39;00m\u001b[38;5;21;01m.\u001b[39;00m\u001b[38;5;21;01mcore\u001b[39;00m\u001b[38;5;21;01m.\u001b[39;00m\u001b[38;5;21;01marrays\u001b[39;00m\u001b[38;5;21;01m.\u001b[39;00m\u001b[38;5;21;01mstring_\u001b[39;00m \u001b[38;5;28;01mimport\u001b[39;00m StringDtype\n\u001b[1;32m--> 181\u001b[0m     \u001b[38;5;28mself\u001b[39m\u001b[38;5;241m.\u001b[39m_inferred_dtype \u001b[38;5;241m=\u001b[39m \u001b[38;5;28mself\u001b[39m\u001b[38;5;241m.\u001b[39m_validate(data)\n\u001b[0;32m    182\u001b[0m     \u001b[38;5;28mself\u001b[39m\u001b[38;5;241m.\u001b[39m_is_categorical \u001b[38;5;241m=\u001b[39m is_categorical_dtype(data\u001b[38;5;241m.\u001b[39mdtype)\n\u001b[0;32m    183\u001b[0m     \u001b[38;5;28mself\u001b[39m\u001b[38;5;241m.\u001b[39m_is_string \u001b[38;5;241m=\u001b[39m \u001b[38;5;28misinstance\u001b[39m(data\u001b[38;5;241m.\u001b[39mdtype, StringDtype)\n",
      "File \u001b[1;32mC:\\ProgramData\\anaconda3\\Lib\\site-packages\\pandas\\core\\strings\\accessor.py:235\u001b[0m, in \u001b[0;36mStringMethods._validate\u001b[1;34m(data)\u001b[0m\n\u001b[0;32m    232\u001b[0m inferred_dtype \u001b[38;5;241m=\u001b[39m lib\u001b[38;5;241m.\u001b[39minfer_dtype(values, skipna\u001b[38;5;241m=\u001b[39m\u001b[38;5;28;01mTrue\u001b[39;00m)\n\u001b[0;32m    234\u001b[0m \u001b[38;5;28;01mif\u001b[39;00m inferred_dtype \u001b[38;5;129;01mnot\u001b[39;00m \u001b[38;5;129;01min\u001b[39;00m allowed_types:\n\u001b[1;32m--> 235\u001b[0m     \u001b[38;5;28;01mraise\u001b[39;00m \u001b[38;5;167;01mAttributeError\u001b[39;00m(\u001b[38;5;124m\"\u001b[39m\u001b[38;5;124mCan only use .str accessor with string values!\u001b[39m\u001b[38;5;124m\"\u001b[39m)\n\u001b[0;32m    236\u001b[0m \u001b[38;5;28;01mreturn\u001b[39;00m inferred_dtype\n",
      "\u001b[1;31mAttributeError\u001b[0m: Can only use .str accessor with string values!"
     ]
    }
   ],
   "source": [
    "import matplotlib.pyplot as plt\n",
    "data['Storage ']=data['Storage '].str.replace(\"GB\",\"\").astype(int)\n",
    "g=data.groupby(\"Brand\")['Storage '].max()\n",
    "dat={}\n",
    "\n",
    "for k,v in g.items():\n",
    "    dat[k]=data[[data[\"Brand\"]==k] & [data['Storage ']==v]]['Brand'].count()\n"
   ]
  },
  {
   "cell_type": "markdown",
   "id": "ae73f239",
   "metadata": {},
   "source": [
    "# e)\tIdentify how many models are released by each brand."
   ]
  },
  {
   "cell_type": "code",
   "execution_count": 31,
   "id": "9542ffc9",
   "metadata": {},
   "outputs": [
    {
     "data": {
      "text/plain": [
       "Brand\n",
       "Apple         30\n",
       "Asus           4\n",
       "Blackberry     3\n",
       "CAT            1\n",
       "Google         7\n",
       "Huawei        12\n",
       "LG             3\n",
       "Motorola      23\n",
       "Nokia         28\n",
       "OnePlus       15\n",
       "Oppo          56\n",
       "Realme        43\n",
       "Samsung       79\n",
       "Sony           1\n",
       "Vivo          35\n",
       "Xiaomi        67\n",
       "Name: Model, dtype: int64"
      ]
     },
     "execution_count": 31,
     "metadata": {},
     "output_type": "execute_result"
    }
   ],
   "source": [
    "data.groupby([\"Brand\"])['Model'].count()"
   ]
  },
  {
   "cell_type": "markdown",
   "id": "0a6e5a70",
   "metadata": {},
   "source": [
    "# f)\tFind the RAM capacity of all models of every brand."
   ]
  },
  {
   "cell_type": "code",
   "execution_count": 34,
   "id": "8876d672",
   "metadata": {},
   "outputs": [
    {
     "data": {
      "text/html": [
       "<div>\n",
       "<style scoped>\n",
       "    .dataframe tbody tr th:only-of-type {\n",
       "        vertical-align: middle;\n",
       "    }\n",
       "\n",
       "    .dataframe tbody tr th {\n",
       "        vertical-align: top;\n",
       "    }\n",
       "\n",
       "    .dataframe thead th {\n",
       "        text-align: right;\n",
       "    }\n",
       "</style>\n",
       "<table border=\"1\" class=\"dataframe\">\n",
       "  <thead>\n",
       "    <tr style=\"text-align: right;\">\n",
       "      <th></th>\n",
       "      <th>Brand</th>\n",
       "      <th>Model</th>\n",
       "      <th>RAM</th>\n",
       "    </tr>\n",
       "  </thead>\n",
       "  <tbody>\n",
       "    <tr>\n",
       "      <th>0</th>\n",
       "      <td>Apple</td>\n",
       "      <td>iPhone 13 Pro</td>\n",
       "      <td>6 GB</td>\n",
       "    </tr>\n",
       "    <tr>\n",
       "      <th>1</th>\n",
       "      <td>Samsung</td>\n",
       "      <td>Galaxy S21 Ultra</td>\n",
       "      <td>12 GB</td>\n",
       "    </tr>\n",
       "    <tr>\n",
       "      <th>2</th>\n",
       "      <td>OnePlus</td>\n",
       "      <td>9 Pro</td>\n",
       "      <td>8 GB</td>\n",
       "    </tr>\n",
       "    <tr>\n",
       "      <th>3</th>\n",
       "      <td>Xiaomi</td>\n",
       "      <td>Redmi Note 10 Pro</td>\n",
       "      <td>6 GB</td>\n",
       "    </tr>\n",
       "    <tr>\n",
       "      <th>4</th>\n",
       "      <td>Google</td>\n",
       "      <td>Pixel 6</td>\n",
       "      <td>8 GB</td>\n",
       "    </tr>\n",
       "    <tr>\n",
       "      <th>...</th>\n",
       "      <td>...</td>\n",
       "      <td>...</td>\n",
       "      <td>...</td>\n",
       "    </tr>\n",
       "    <tr>\n",
       "      <th>402</th>\n",
       "      <td>Samsung</td>\n",
       "      <td>Galaxy Note20 5G</td>\n",
       "      <td>8</td>\n",
       "    </tr>\n",
       "    <tr>\n",
       "      <th>403</th>\n",
       "      <td>Xiaomi</td>\n",
       "      <td>Mi 10 Lite 5G</td>\n",
       "      <td>6</td>\n",
       "    </tr>\n",
       "    <tr>\n",
       "      <th>404</th>\n",
       "      <td>Apple</td>\n",
       "      <td>iPhone 12 Pro Max</td>\n",
       "      <td>6</td>\n",
       "    </tr>\n",
       "    <tr>\n",
       "      <th>405</th>\n",
       "      <td>Oppo</td>\n",
       "      <td>Reno3</td>\n",
       "      <td>8</td>\n",
       "    </tr>\n",
       "    <tr>\n",
       "      <th>406</th>\n",
       "      <td>Samsung</td>\n",
       "      <td>Galaxy S10 Lite</td>\n",
       "      <td>6</td>\n",
       "    </tr>\n",
       "  </tbody>\n",
       "</table>\n",
       "<p>407 rows × 3 columns</p>\n",
       "</div>"
      ],
      "text/plain": [
       "       Brand              Model   RAM \n",
       "0      Apple      iPhone 13 Pro   6 GB\n",
       "1    Samsung   Galaxy S21 Ultra  12 GB\n",
       "2    OnePlus              9 Pro   8 GB\n",
       "3     Xiaomi  Redmi Note 10 Pro   6 GB\n",
       "4     Google            Pixel 6   8 GB\n",
       "..       ...                ...    ...\n",
       "402  Samsung   Galaxy Note20 5G      8\n",
       "403   Xiaomi      Mi 10 Lite 5G      6\n",
       "404    Apple  iPhone 12 Pro Max      6\n",
       "405     Oppo              Reno3      8\n",
       "406  Samsung    Galaxy S10 Lite      6\n",
       "\n",
       "[407 rows x 3 columns]"
      ]
     },
     "execution_count": 34,
     "metadata": {},
     "output_type": "execute_result"
    }
   ],
   "source": [
    "data[[\"Brand\",\"Model\",\"RAM \"]]"
   ]
  },
  {
   "cell_type": "markdown",
   "id": "3196d2d8",
   "metadata": {},
   "source": [
    "# g)\tIdentify the correlation between Battery Capacity and price"
   ]
  },
  {
   "cell_type": "code",
   "execution_count": 35,
   "id": "f4c1ef80",
   "metadata": {},
   "outputs": [
    {
     "data": {
      "text/plain": [
       "-0.39658137643652003"
      ]
     },
     "execution_count": 35,
     "metadata": {},
     "output_type": "execute_result"
    }
   ],
   "source": [
    "lst = []                  # diff approach\n",
    "for i in data['Price ($)']:\n",
    "    if ',' in i:\n",
    "        i = i.replace(',', '')\n",
    "    if '$' in i:\n",
    "        lst.append(int(i[1:]))\n",
    "    else:\n",
    "        lst.append(int(i))\n",
    "data['Price'] = lst\n",
    "data['Battery Capacity (mAh)'].corr(data['Price'])"
   ]
  },
  {
   "cell_type": "markdown",
   "id": "7464207a",
   "metadata": {},
   "source": [
    "# h)\tFind how many models are there per each Battery capacity."
   ]
  },
  {
   "cell_type": "code",
   "execution_count": 39,
   "id": "2dcfc99d",
   "metadata": {},
   "outputs": [
    {
     "data": {
      "text/plain": [
       "Battery Capacity (mAh)\n",
       "1821      5\n",
       "2227      3\n",
       "2691      1\n",
       "2800      1\n",
       "2815      5\n",
       "2942      5\n",
       "3000      1\n",
       "3095      1\n",
       "3110      4\n",
       "3174      1\n",
       "3300      2\n",
       "3340      1\n",
       "3500      4\n",
       "3687      1\n",
       "3885      1\n",
       "3969      3\n",
       "4000     34\n",
       "4025      1\n",
       "4080      3\n",
       "4100      1\n",
       "4115      1\n",
       "4160      1\n",
       "4200      8\n",
       "4230      6\n",
       "4250      6\n",
       "4300      7\n",
       "4310     10\n",
       "4350      1\n",
       "4352      1\n",
       "4400      1\n",
       "4450      1\n",
       "4470      1\n",
       "4500     46\n",
       "4510      1\n",
       "4520      1\n",
       "4600      2\n",
       "4614      1\n",
       "4630      2\n",
       "4800      1\n",
       "4820      2\n",
       "4850      1\n",
       "4950      3\n",
       "5000    159\n",
       "5020     14\n",
       "5050      3\n",
       "5160      7\n",
       "6000     40\n",
       "7000      2\n",
       "Name: Model, dtype: int64"
      ]
     },
     "execution_count": 39,
     "metadata": {},
     "output_type": "execute_result"
    }
   ],
   "source": [
    "data.groupby([\"Battery Capacity (mAh)\"])[\"Model\"].count()"
   ]
  },
  {
   "cell_type": "markdown",
   "id": "58db0756",
   "metadata": {},
   "source": [
    "# i)\tCalculate average price of each brand."
   ]
  },
  {
   "cell_type": "code",
   "execution_count": 43,
   "id": "87b32db8",
   "metadata": {},
   "outputs": [
    {
     "name": "stderr",
     "output_type": "stream",
     "text": [
      "C:\\Users\\y21cs174\\AppData\\Local\\Temp\\ipykernel_21344\\964098182.py:1: FutureWarning: The default value of numeric_only in DataFrameGroupBy.mean is deprecated. In a future version, numeric_only will default to False. Either specify numeric_only or select only columns which should be valid for the function.\n",
      "  data.groupby([\"Brand\",\"Price ($)\"]).mean()\n"
     ]
    },
    {
     "data": {
      "text/html": [
       "<div>\n",
       "<style scoped>\n",
       "    .dataframe tbody tr th:only-of-type {\n",
       "        vertical-align: middle;\n",
       "    }\n",
       "\n",
       "    .dataframe tbody tr th {\n",
       "        vertical-align: top;\n",
       "    }\n",
       "\n",
       "    .dataframe thead th {\n",
       "        text-align: right;\n",
       "    }\n",
       "</style>\n",
       "<table border=\"1\" class=\"dataframe\">\n",
       "  <thead>\n",
       "    <tr style=\"text-align: right;\">\n",
       "      <th></th>\n",
       "      <th></th>\n",
       "      <th>Storage</th>\n",
       "      <th>Battery Capacity (mAh)</th>\n",
       "      <th>price</th>\n",
       "      <th>Price</th>\n",
       "    </tr>\n",
       "    <tr>\n",
       "      <th>Brand</th>\n",
       "      <th>Price ($)</th>\n",
       "      <th></th>\n",
       "      <th></th>\n",
       "      <th></th>\n",
       "      <th></th>\n",
       "    </tr>\n",
       "  </thead>\n",
       "  <tbody>\n",
       "    <tr>\n",
       "      <th rowspan=\"5\" valign=\"top\">Apple</th>\n",
       "      <th>$799</th>\n",
       "      <td>128.0</td>\n",
       "      <td>2815.0</td>\n",
       "      <td>799.0</td>\n",
       "      <td>799.0</td>\n",
       "    </tr>\n",
       "    <tr>\n",
       "      <th>1099</th>\n",
       "      <td>243.2</td>\n",
       "      <td>3753.6</td>\n",
       "      <td>1099.0</td>\n",
       "      <td>1099.0</td>\n",
       "    </tr>\n",
       "    <tr>\n",
       "      <th>1299</th>\n",
       "      <td>256.0</td>\n",
       "      <td>4352.0</td>\n",
       "      <td>1299.0</td>\n",
       "      <td>1299.0</td>\n",
       "    </tr>\n",
       "    <tr>\n",
       "      <th>399</th>\n",
       "      <td>64.0</td>\n",
       "      <td>1821.0</td>\n",
       "      <td>399.0</td>\n",
       "      <td>399.0</td>\n",
       "    </tr>\n",
       "    <tr>\n",
       "      <th>449</th>\n",
       "      <td>128.0</td>\n",
       "      <td>1821.0</td>\n",
       "      <td>449.0</td>\n",
       "      <td>449.0</td>\n",
       "    </tr>\n",
       "    <tr>\n",
       "      <th>...</th>\n",
       "      <th>...</th>\n",
       "      <td>...</td>\n",
       "      <td>...</td>\n",
       "      <td>...</td>\n",
       "      <td>...</td>\n",
       "    </tr>\n",
       "    <tr>\n",
       "      <th rowspan=\"5\" valign=\"top\">Xiaomi</th>\n",
       "      <th>369</th>\n",
       "      <td>128.0</td>\n",
       "      <td>4250.0</td>\n",
       "      <td>369.0</td>\n",
       "      <td>369.0</td>\n",
       "    </tr>\n",
       "    <tr>\n",
       "      <th>399</th>\n",
       "      <td>128.0</td>\n",
       "      <td>4250.0</td>\n",
       "      <td>399.0</td>\n",
       "      <td>399.0</td>\n",
       "    </tr>\n",
       "    <tr>\n",
       "      <th>529</th>\n",
       "      <td>128.0</td>\n",
       "      <td>4520.0</td>\n",
       "      <td>529.0</td>\n",
       "      <td>529.0</td>\n",
       "    </tr>\n",
       "    <tr>\n",
       "      <th>599</th>\n",
       "      <td>192.0</td>\n",
       "      <td>5000.0</td>\n",
       "      <td>599.0</td>\n",
       "      <td>599.0</td>\n",
       "    </tr>\n",
       "    <tr>\n",
       "      <th>749</th>\n",
       "      <td>256.0</td>\n",
       "      <td>4600.0</td>\n",
       "      <td>749.0</td>\n",
       "      <td>749.0</td>\n",
       "    </tr>\n",
       "  </tbody>\n",
       "</table>\n",
       "<p>258 rows × 4 columns</p>\n",
       "</div>"
      ],
      "text/plain": [
       "                  Storage   Battery Capacity (mAh)   price   Price\n",
       "Brand  Price ($)                                                  \n",
       "Apple  $799          128.0                  2815.0   799.0   799.0\n",
       "       1099          243.2                  3753.6  1099.0  1099.0\n",
       "       1299          256.0                  4352.0  1299.0  1299.0\n",
       "       399            64.0                  1821.0   399.0   399.0\n",
       "       449           128.0                  1821.0   449.0   449.0\n",
       "...                    ...                     ...     ...     ...\n",
       "Xiaomi 369           128.0                  4250.0   369.0   369.0\n",
       "       399           128.0                  4250.0   399.0   399.0\n",
       "       529           128.0                  4520.0   529.0   529.0\n",
       "       599           192.0                  5000.0   599.0   599.0\n",
       "       749           256.0                  4600.0   749.0   749.0\n",
       "\n",
       "[258 rows x 4 columns]"
      ]
     },
     "execution_count": 43,
     "metadata": {},
     "output_type": "execute_result"
    }
   ],
   "source": [
    "data.groupby([\"Brand\",\"Price ($)\"]).mean()"
   ]
  },
  {
   "cell_type": "markdown",
   "id": "fe204a5d",
   "metadata": {},
   "source": [
    "# j)\tFind which mobile brand has highest price."
   ]
  },
  {
   "cell_type": "code",
   "execution_count": 47,
   "id": "7ea6cae1",
   "metadata": {},
   "outputs": [
    {
     "data": {
      "text/plain": [
       "0        Apple\n",
       "6      Samsung\n",
       "323    OnePlus\n",
       "342     Huawei\n",
       "351    Samsung\n",
       "363    Samsung\n",
       "376     Huawei\n",
       "384      Apple\n",
       "Name: Brand, dtype: object"
      ]
     },
     "execution_count": 47,
     "metadata": {},
     "output_type": "execute_result"
    }
   ],
   "source": [
    "br= data['Price ($)'].max()\n",
    "data[\"Brand\"][(data[\"Price ($)\"]==br)]"
   ]
  },
  {
   "cell_type": "code",
   "execution_count": null,
   "id": "0eea988f",
   "metadata": {},
   "outputs": [],
   "source": []
  }
 ],
 "metadata": {
  "kernelspec": {
   "display_name": "Python 3 (ipykernel)",
   "language": "python",
   "name": "python3"
  },
  "language_info": {
   "codemirror_mode": {
    "name": "ipython",
    "version": 3
   },
   "file_extension": ".py",
   "mimetype": "text/x-python",
   "name": "python",
   "nbconvert_exporter": "python",
   "pygments_lexer": "ipython3",
   "version": "3.11.3"
  }
 },
 "nbformat": 4,
 "nbformat_minor": 5
}
